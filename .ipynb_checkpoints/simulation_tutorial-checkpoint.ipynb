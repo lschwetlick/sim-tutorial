{
 "cells": [
  {
   "cell_type": "markdown",
   "metadata": {},
   "source": [
    "# Simulation Tutorial\n",
    "### Lisa DeBruine\n",
    "### 2020-02-17\n",
    "## Setup \n",
    "\n",
    "### Julia\n",
    "\n",
    "Load the packages we'll be using in Julia. In pkg run the following to get the versions we're using:\n",
    "\n",
    "* `add MixedModels#master`\n",
    "* `add https://github.com/RePsychLing/MixedModelsSim.jl#master`"
   ]
  },
  {
   "cell_type": "code",
   "execution_count": 2,
   "metadata": {},
   "outputs": [
    {
     "name": "stdout",
     "output_type": "stream",
     "text": [
      "\u001b[32m\u001b[1mActivating\u001b[22m\u001b[39m environment at `~/CloudStation/Arbeit/03_Allgemeine Psychologie/2020/RePsychLing_git/sim-tutorial/Project.toml`\n"
     ]
    }
   ],
   "source": [
    "using Pkg \n",
    "Pkg.activate()\n",
    "Pkg.instantiate()\n",
    "\n",
    "using MixedModels        # run mixed models\n",
    "using MixedModelsSim     # simulation functions for mixed models\n",
    "using RCall              # call R functions from inside Julia\n",
    "using DataFrames, Tables # work with data tables\n",
    "using Random             # random number generator\n",
    "using CSV                # write CSV files"
   ]
  },
  {
   "cell_type": "markdown",
   "metadata": {},
   "source": [
    "### R\n",
    "\n",
    "Also load any packages we'll be using in R through `RCall()`."
   ]
  },
  {
   "cell_type": "code",
   "execution_count": 3,
   "metadata": {},
   "outputs": [
    {
     "name": "stderr",
     "output_type": "stream",
     "text": [
      "┌ Warning: RCall.jl: \n",
      "│ Attache Paket: ‘dplyr’\n",
      "│ \n",
      "│ The following objects are masked from ‘package:stats’:\n",
      "│ \n",
      "│     filter, lag\n",
      "│ \n",
      "│ The following objects are masked from ‘package:base’:\n",
      "│ \n",
      "│     intersect, setdiff, setequal, union\n",
      "│ \n",
      "└ @ RCall /Users/Daniel/.julia/packages/RCall/g7dhB/src/io.jl:113\n"
     ]
    }
   ],
   "source": [
    "R\"\"\"\n",
    "require(ggplot2, quietly = TRUE) # for visualisation\n",
    "require(dplyr, quietly = TRUE)   # for data wrangling\n",
    "require(tidyr, quietly = TRUE)   # for data wrangling\n",
    "\"\"\";"
   ]
  },
  {
   "cell_type": "markdown",
   "metadata": {},
   "source": [
    "### Define Custom functions\n",
    "\n",
    "It's useful to be able to weave your file quickly while you're debugging, \n",
    "so set the number of simulations to a relatively low number while you're \n",
    "setting up your script and change it to a larger number when everything\n",
    "is debugged."
   ]
  },
  {
   "cell_type": "code",
   "execution_count": null,
   "metadata": {},
   "outputs": [],
   "source": [
    "nsims = 1000 # set to a low number for test, high for production"
   ]
  },
  {
   "cell_type": "markdown",
   "metadata": {},
   "source": [
    "#### Define: ggplot_betas\n",
    "\n",
    "This function plots the beta values returned from `simulate_waldtests` using ggplot in R.\n",
    "If you set a figname, it will save the plot to the specified file."
   ]
  },
  {
   "cell_type": "code",
   "execution_count": null,
   "metadata": {},
   "outputs": [],
   "source": [
    "function ggplot_betas(sim, figname = 0, width = 7, height = 5) \n",
    "\n",
    "    beta_df = DataFrame(columntable(sim).β)\n",
    "\n",
    "    R\"\"\"\n",
    "        p <- $beta_df %>%\n",
    "            gather(var, val, 1:ncol(.)) %>%\n",
    "            ggplot(aes(val, color = var)) +\n",
    "            geom_density(show.legend = FALSE) +\n",
    "            facet_wrap(~var, scales = \"free\")\n",
    "\n",
    "        if (is.character($figname)) {\n",
    "            ggsave($figname, p, width = $width, height = $height)\n",
    "        }\n",
    "\n",
    "        p\n",
    "    \"\"\"\n",
    "end"
   ]
  },
  {
   "cell_type": "markdown",
   "metadata": {},
   "source": [
    "## Existing Data\n",
    "\n",
    "Load existing data from this morning's tutorial. Set the contrasts and run model 4 from the tutorial."
   ]
  },
  {
   "cell_type": "code",
   "execution_count": null,
   "metadata": {},
   "outputs": [],
   "source": [
    "# load data\n",
    "kb07 = MixedModels.dataset(\"kb07\");\n",
    "\n",
    "# set contrasts\n",
    "contrasts = Dict(:spkr => HelmertCoding(), \n",
    "                 :prec => HelmertCoding(), \n",
    "                 :load => HelmertCoding());\n",
    "\n",
    "# define formula\n",
    "kb07_f = @formula( rt_trunc ~ 1 + spkr+prec+load + (1|subj) + (1+prec|item) );\n",
    "\n",
    "# fit model\n",
    "kb07_m = fit(MixedModel, kb07_f, kb07, contrasts=contrasts)"
   ]
  },
  {
   "cell_type": "markdown",
   "metadata": {},
   "source": [
    "### Simulate data with same parameters\n",
    "\n",
    "Use the `simulate_waldtests()` function to run `j nsims` iterations of data sampled using the parameters from `m4`. Set up a random seed to make the simulation reproducible. You can use your favourite number.\n",
    "\n",
    "To use multithreading, you need to set the number of cores you want to use. In Visual Studio Code, open the settings (gear icon in the lower left corner or cmd-,) and search for \"thread\". Set `julia.NumThreads` to the number of cores you want to use (at least 1 less than your total number)."
   ]
  },
  {
   "cell_type": "code",
   "execution_count": null,
   "metadata": {},
   "outputs": [],
   "source": [
    "# set seed for reproducibility\n",
    "rng = MersenneTwister(8675309);\n",
    "\n",
    "# run nsims iterations\n",
    "kb07_sim = simulate_waldtests(rng, nsims, kb07_m, use_threads = true);"
   ]
  },
  {
   "cell_type": "markdown",
   "metadata": {},
   "source": [
    "**Try**: Run the code above with and without `use_threads`.\n",
    "\n",
    "Save all data to a csv file."
   ]
  },
  {
   "cell_type": "code",
   "execution_count": null,
   "metadata": {},
   "outputs": [],
   "source": [
    "kb07_sim_df = sim_to_df(kb07_sim)\n",
    "\n",
    "CSV.write(\"sim/kb07_sim.csv\", kb07_sim_df)\n",
    "\n",
    "first(kb07_sim_df, 8)"
   ]
  },
  {
   "cell_type": "markdown",
   "metadata": {},
   "source": [
    "Plot betas in ggplot. In the code editor or Jupyter notebooks, you can omit the file name to just display the figure in an external window."
   ]
  },
  {
   "cell_type": "code",
   "execution_count": null,
   "metadata": {},
   "outputs": [],
   "source": [
    "# just display the image\n",
    "# ggplot_betas(kb07_sim) \n",
    "\n",
    "# save the image to a file and display (display doesn't work in weave)\n",
    "ggplot_betas(kb07_sim, \"fig/kb07_betas.png\");"
   ]
  },
  {
   "cell_type": "markdown",
   "metadata": {},
   "source": [
    "In documents you want to weave, save the image to a file and use markdown to display the file. Add a semicolon to the end of the function to suppress creating the images in new windows during weaving.\n",
    "\n",
    "![](fig/kb07_betas.png)\n",
    "\n",
    "\n",
    "### Power calculation\n",
    "\n",
    "The function `power_table()` from `MixedModelsSim` takes the output of `simulate_waldtests()` and calculates the proportion of simulations where the p-value is less than alpha for each coefficient. You can set the `alpha` argument to change the default value of 0.05 (justify your alpha ;)."
   ]
  },
  {
   "cell_type": "code",
   "execution_count": null,
   "metadata": {},
   "outputs": [],
   "source": [
    "power_table(kb07_sim)"
   ]
  },
  {
   "cell_type": "markdown",
   "metadata": {},
   "source": [
    "### Change parameters\n",
    "\n",
    "Let's say we want to check our power to detect effects of spkr, prec, and load \n",
    "that are half the size of our pilot data. We can set a new vector of beta values \n",
    "with the `β` argument to `simulate_waldtests`."
   ]
  },
  {
   "cell_type": "code",
   "execution_count": null,
   "metadata": {},
   "outputs": [],
   "source": [
    "newβ = kb07_m.β\n",
    "newβ[2:4] = kb07_m.β[2:4]/2\n",
    "\n",
    "kb07_sim_half = simulate_waldtests(rng, nsims, kb07_m, β = newβ, use_threads = true);\n",
    "\n",
    "power_table(kb07_sim_half)"
   ]
  },
  {
   "cell_type": "markdown",
   "metadata": {},
   "source": [
    "# Simulating Data from Scratch\n",
    "\n",
    "\n",
    "## simdat_crossed\n",
    "\n",
    "The `simdat_crossed()` function from `MixedModelsSim` lets you set up a data frame with a specified experimental design. For now, it only makes fully balanced crossed designs, but you can generate an unbalanced design by simulating data for the largest cell and deleting extra rows. \n",
    "\n",
    "We will set a design where `subj_n` subjects per `age` group (O or Y) respond to `item_n` items in each of two `condition`s (A or B).\n",
    "\n",
    "Your factors need to be specified separately for between-subject, between-item, and within-subject/item factors using `Dict` with the name of each factor as the keys and vectors with the names of the levels as values."
   ]
  },
  {
   "cell_type": "code",
   "execution_count": null,
   "metadata": {},
   "outputs": [],
   "source": [
    "# put between-subject factors in a Dict\n",
    "subj_btwn = Dict(\"age\" => [\"O\", \"Y\"])\n",
    "\n",
    "# there are no between-item factors in this design so you can omit it or set it to nothing\n",
    "item_btwn = nothing\n",
    "\n",
    "# put within-subject/item factors in a Dict\n",
    "both_win = Dict(\"condition\" => [\"A\", \"B\"])\n",
    "\n",
    "# simulate data\n",
    "dat = simdat_crossed(10, 30, \n",
    "                     subj_btwn = subj_btwn, \n",
    "                     item_btwn = item_btwn, \n",
    "                     both_win = both_win);"
   ]
  },
  {
   "cell_type": "markdown",
   "metadata": {},
   "source": [
    "## Fit a model\n",
    "\n",
    "Now you need to fit a model to your simulated data. Because the `dv` is just random numbers from N(0,1), there will be basically no subject or item random variance, residual variance will be near 1.0, and the estimates for all effects should be small. Don't worry, we'll specify fixed and random effects directly in `simulate_waldtests`."
   ]
  },
  {
   "cell_type": "code",
   "execution_count": null,
   "metadata": {},
   "outputs": [],
   "source": [
    "# set contrasts\n",
    "contrasts = Dict(:age => HelmertCoding(), \n",
    "                 :condition => HelmertCoding());\n",
    "\n",
    "f1 = @formula dv ~ 1 + age * condition + (1|item) + (1|subj);\n",
    "m1 = fit(MixedModel, f1, dat, contrasts=contrasts)"
   ]
  },
  {
   "cell_type": "markdown",
   "metadata": {},
   "source": [
    "## Simulate\n",
    "\n",
    "Set a seed for reproducibility and specify β, σ, and θ."
   ]
  },
  {
   "cell_type": "code",
   "execution_count": null,
   "metadata": {},
   "outputs": [],
   "source": [
    "rng = MersenneTwister(8675309);\n",
    "\n",
    "new_beta = [0, 0.25, 0.25, 0]\n",
    "new_sigma = 2.0\n",
    "new_theta = [1.0, 1.0]\n",
    "\n",
    "sim1 = simulate_waldtests(rng, nsims, m1, \n",
    "                        β = new_beta, \n",
    "                        σ = new_sigma, \n",
    "                        θ = new_theta,\n",
    "                        use_threads = true);"
   ]
  },
  {
   "cell_type": "markdown",
   "metadata": {},
   "source": [
    "## Explore simulation output"
   ]
  },
  {
   "cell_type": "code",
   "execution_count": null,
   "metadata": {},
   "outputs": [],
   "source": [
    "ggplot_betas(sim1, \"fig/simbetas.png\");"
   ]
  },
  {
   "cell_type": "markdown",
   "metadata": {},
   "source": [
    "![](fig/simbetas.png)\n",
    "\n",
    "\n",
    "## Power"
   ]
  },
  {
   "cell_type": "code",
   "execution_count": null,
   "metadata": {},
   "outputs": [],
   "source": [
    "power_table(sim1)"
   ]
  },
  {
   "cell_type": "markdown",
   "metadata": {},
   "source": [
    "## Try your own design\n",
    "\n",
    "Edit `my_dat` below and make sure `my_f` is updated for your new design. Also make sure `my_beta` has the right number of elements (check `my_m.β` for the number and order). You can also change `my_sigma` and `my_theta`. Set the seed in `my_rng` to your favourite number."
   ]
  },
  {
   "cell_type": "code",
   "execution_count": null,
   "metadata": {},
   "outputs": [],
   "source": [
    "my_dat = simdat_crossed(10, 10)\n",
    "\n",
    "my_f = @formula dv ~ 1 + (1|item) + (1|subj);\n",
    "my_m = fit(MixedModel, my_f, my_dat)\n",
    "\n",
    "my_beta = [0.0]\n",
    "my_sigma = 2.0\n",
    "my_theta = [1.0, 1.0]\n",
    "\n",
    "my_rng = MersenneTwister(8675309);\n",
    "\n",
    "my_nsims = 1000\n",
    "\n",
    "my_sim = simulate_waldtests(my_rng, my_nsims, my_m, \n",
    "                        β = my_beta, \n",
    "                        σ = my_sigma, \n",
    "                        θ = my_theta,\n",
    "                        use_threads = true);\n",
    "\n",
    "power_table(my_sim)"
   ]
  },
  {
   "cell_type": "markdown",
   "metadata": {},
   "source": [
    "## Write a function to vary something"
   ]
  },
  {
   "cell_type": "code",
   "execution_count": null,
   "metadata": {},
   "outputs": [],
   "source": [
    "function mysim(subj_n, item_n, nsims = 1000, \n",
    "               beta  = [0, 0, 0, 0],\n",
    "               sigma = 2.0, \n",
    "               theta = [1.0, 1.0],\n",
    "               seed = convert(Int64, round(rand()*1e8))\n",
    "               )\n",
    "    # generate data\n",
    "    dat = simdat_crossed(subj_n, item_n, subj_btwn = subj_btwn, both_win = both_win )\n",
    "\n",
    "    # set contrasts\n",
    "    contrasts = Dict(:age => HelmertCoding(), \n",
    "                     :condition => HelmertCoding());\n",
    "\n",
    "    # set up model\n",
    "    f = @formula dv ~ 1 + age*condition + (1|item) + (1|subj);\n",
    "    m = fit(MixedModel, f, dat, contrasts=contrasts)\n",
    "\n",
    "    # run simulation\n",
    "    rng = MersenneTwister(seed);\n",
    "\n",
    "    simulate_waldtests(\n",
    "        rng, nsims, m, \n",
    "        β = beta, \n",
    "        σ = sigma, \n",
    "        θ = theta, \n",
    "        use_threads = true\n",
    "    );\n",
    "end"
   ]
  },
  {
   "cell_type": "markdown",
   "metadata": {},
   "source": [
    "Run simulations over a range of values for any parameter."
   ]
  },
  {
   "cell_type": "code",
   "execution_count": null,
   "metadata": {},
   "outputs": [],
   "source": [
    "# varying\n",
    "subj_ns = [20, 30, 40]\n",
    "item_ns = [10, 20, 30]\n",
    "\n",
    "# fixed\n",
    "nsims = 1000\n",
    "new_beta = [0, 0.4, 0.1, 0]\n",
    "new_sigma = 2.0\n",
    "new_theta = [1.0, 1.0]\n",
    "\n",
    "d = DataFrame()\n",
    "\n",
    "for subj_n in subj_ns\n",
    "    for item_n in item_ns\n",
    "        s = mysim(subj_n, item_n, nsims, new_beta, new_sigma, new_theta);\n",
    "        pt = power_table(s)\n",
    "        pt[!, :item_n] .= item_n\n",
    "        pt[!, :sub_n] .= subj_n\n",
    "        append!(d, pt)\n",
    "    end\n",
    "end\n",
    "\n",
    "# save the data in long format\n",
    "CSV.write(\"sim/power.csv\", d)\n",
    "\n",
    "# spread the table for easier viewing\n",
    "unstack(d, :coefname, :power)"
   ]
  },
  {
   "cell_type": "markdown",
   "metadata": {},
   "source": [
    "## Convert this file"
   ]
  },
  {
   "cell_type": "code",
   "execution_count": null,
   "metadata": {},
   "outputs": [],
   "source": [
    "# using Weave\n",
    "\n",
    "# convert to html\n",
    "# weave(\"simulation_tutorial.jmd\")\n",
    "\n",
    "# convert to a python notebook\n",
    "# convert_doc(\"simulation_tutorial.jmd\", \"simulation_tutorial.ipynb\")\n",
    "\n",
    "# convert to md for README\n",
    "# weave(\"simulation_tutorial.jmd\", doctype=\"pandoc\", out_path = \"README.md\")"
   ]
  }
 ],
 "metadata": {
  "kernelspec": {
   "display_name": "Julia 1.3.1",
   "language": "julia",
   "name": "julia-1.3"
  },
  "language_info": {
   "file_extension": ".jl",
   "mimetype": "application/julia",
   "name": "julia",
   "version": "1.3.1"
  }
 },
 "nbformat": 4,
 "nbformat_minor": 2
}
